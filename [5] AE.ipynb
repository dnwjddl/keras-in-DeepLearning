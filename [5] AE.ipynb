{
 "cells": [
  {
   "cell_type": "markdown",
   "metadata": {},
   "source": [
    "## AE: AutoEncoder\n",
    "- **비지도학습** 인공지능\n",
    "- 입력 데이터의 특징점을 효율적으로 찾는 것\n",
    "- AE의 출력 데이터는 입력한 데이터에 비해 정보의 차원이 줄기 때문에 잡음 성분을 제거하는 용도로도 사용\n",
    "\n",
    "#### AE의 원리\n",
    "- 데이터 압축\n",
    "- 저차원화를 통한 데이터 관계 관찰\n",
    "- 배경 잡음 억제(denoising)\n",
    "\n",
    "--- \n",
    "\n",
    "\n",
    "- 주성분 분석(PCA)로 처리하는 일차원 데이터 처리 방식을 딥러닝 방식으로 확장한 것\n",
    "- AE는 신경망으로 특징점을 추출하기 때문에 **데이터 구성이 복잡하거나 데이터가 대량인 경우**에 주성분 분석 방법보다 효과적"
   ]
  },
  {
   "cell_type": "markdown",
   "metadata": {},
   "source": [
    "**부호화**:\n",
    "- 입력 계층에서 들어온 다차원 데이터는 차원을 줄이는 은닉계층으로 들어감\n",
    "- 은닉계층의 출력이 곧 부호화 결과\n",
    "\n",
    "**복호화**\n",
    "- 은닉계층에서 출력한 부호화 결과는 출력 계층으로 들어감\n",
    "- 이때 출력 계층의 노드수는 은닉계층의 노드 수보다 많음\n",
    "- 즉, 더 높은 차원의 데이터로 되돌아감\n",
    "\n",
    "\n",
    "부호화 -> 복호화 (Downsampling-> upsampling)\n"
   ]
  },
  {
   "cell_type": "markdown",
   "metadata": {},
   "source": [
    "## 완전 연결 계층을 이용한 AE"
   ]
  },
  {
   "cell_type": "code",
   "execution_count": 8,
   "metadata": {},
   "outputs": [],
   "source": [
    "from keras import layers, models\n",
    "\n",
    "class AE(models.Model):\n",
    "    def __init__(self, x_nodes=784, z_dim=36):\n",
    "        x_shape = (x_nodes,)# 입력 노드의 수(입력노드 수로 구성된 튜플)\n",
    "        x = layers.Input(shape=x_shape)#입력계층\n",
    "        z = layers.Dense(z_dim, activation='relu')(x) #은닉계층\n",
    "        y = layers.Dense(x_nodes, activation='sigmoid')(z) # 출력계층\n",
    "\n",
    "        super().__init__(x, y)\n",
    "\n",
    "        self.x = x\n",
    "        self.z = z\n",
    "        self.z_dim = z_dim\n",
    "\n",
    "        # Encoder, Decoder ??\n",
    "\n",
    "        self.compile(optimizer='adadelta', loss='binary_crossentropy', metrics=['accuracy'])\n",
    "\n",
    "    def Encoder(self):\n",
    "        return models.Model(self.x, self.z)\n",
    "\n",
    "    def Decoder(self):\n",
    "        z_shape = (self.z_dim,)\n",
    "        z = layers.Input(shape=z_shape)\n",
    "        y_layer = self.layers[-1]\n",
    "        y = y_layer(z)\n",
    "        return models.Model(z, y)"
   ]
  },
  {
   "cell_type": "code",
   "execution_count": 10,
   "metadata": {},
   "outputs": [
    {
     "name": "stdout",
     "output_type": "stream",
     "text": [
      "(60000, 784)\n",
      "(10000, 784)\n"
     ]
    }
   ],
   "source": [
    "# 데이터 준비\n",
    "from keras.datasets import mnist\n",
    "import numpy as np\n",
    "\n",
    "# label이 따로 필요없음\n",
    "(X_train, _), (X_test, _) = mnist.load_data()\n",
    "\n",
    "X_train = X_train.astype('float32') / 255.\n",
    "X_test = X_test.astype('float32') / 255.\n",
    "X_train = X_train.reshape((len(X_train), np.prod(X_train.shape[1:])))\n",
    "X_test = X_test.reshape((len(X_test), np.prod(X_test.shape[1:])))\n",
    "print(X_train.shape)\n",
    "print(X_test.shape)"
   ]
  },
  {
   "cell_type": "code",
   "execution_count": 16,
   "metadata": {},
   "outputs": [],
   "source": [
    "def main():\n",
    "    x_nodes = 784\n",
    "    z_dim = 36\n",
    "\n",
    "    autoencoder = AE(x_nodes, z_dim)\n",
    "\n",
    "    history = autoencoder.fit(X_train, X_train,\n",
    "                              epochs=10,\n",
    "                              batch_size=256,\n",
    "                              shuffle=True,\n",
    "                              validation_data=(X_test, X_test))\n",
    "\n",
    "#     plot_acc(history, '(a) 학습 경과에 따른 정확도 변화 추이')\n",
    "#     plt.show()\n",
    "#     plot_loss(history, '(b) 학습 경과에 따른 손실값 변화 추이')\n",
    "#     plt.show()\n",
    "\n",
    "#     show_ae(autoencoder)\n",
    "#     plt.show()"
   ]
  },
  {
   "cell_type": "code",
   "execution_count": 17,
   "metadata": {},
   "outputs": [
    {
     "name": "stdout",
     "output_type": "stream",
     "text": [
      "Epoch 1/10\n",
      "235/235 [==============================] - 5s 18ms/step - loss: 0.6923 - accuracy: 9.4317e-04 - val_loss: 0.6922 - val_accuracy: 0.0013\n",
      "Epoch 2/10\n",
      "235/235 [==============================] - 6s 24ms/step - loss: 0.6921 - accuracy: 9.9472e-04 - val_loss: 0.6920 - val_accuracy: 0.0013\n",
      "Epoch 3/10\n",
      "235/235 [==============================] - 6s 25ms/step - loss: 0.6920 - accuracy: 0.0012 - val_loss: 0.6918 - val_accuracy: 0.0012\n",
      "Epoch 4/10\n",
      "235/235 [==============================] - 5s 20ms/step - loss: 0.6918 - accuracy: 9.9382e-04 - val_loss: 0.6917 - val_accuracy: 0.0011\n",
      "Epoch 5/10\n",
      "235/235 [==============================] - 4s 17ms/step - loss: 0.6916 - accuracy: 0.0010 - val_loss: 0.6915 - val_accuracy: 0.0011loss: 0.6916 - accuracy: 0.00\n",
      "Epoch 6/10\n",
      "235/235 [==============================] - 5s 21ms/step - loss: 0.6915 - accuracy: 0.0011 - val_loss: 0.6913 - val_accuracy: 0.0011\n",
      "Epoch 7/10\n",
      "235/235 [==============================] - 4s 18ms/step - loss: 0.6913 - accuracy: 0.0011 - val_loss: 0.6912 - val_accuracy: 0.0011\n",
      "Epoch 8/10\n",
      "235/235 [==============================] - 4s 16ms/step - loss: 0.6911 - accuracy: 9.2568e-04 - val_loss: 0.6910 - val_accuracy: 0.0010\n",
      "Epoch 9/10\n",
      "235/235 [==============================] - 4s 15ms/step - loss: 0.6910 - accuracy: 8.8494e-04 - val_loss: 0.6908 - val_accuracy: 0.0010\n",
      "Epoch 10/10\n",
      "235/235 [==============================] - 3s 13ms/step - loss: 0.6908 - accuracy: 9.0953e-04 - val_loss: 0.6907 - val_accuracy: 0.0010\n"
     ]
    }
   ],
   "source": [
    "if __name__ == '__main__':\n",
    "    main()"
   ]
  },
  {
   "cell_type": "markdown",
   "metadata": {},
   "source": [
    "## 합성곱 계층을 이용한 AE 구현"
   ]
  },
  {
   "cell_type": "code",
   "execution_count": 1,
   "metadata": {},
   "outputs": [],
   "source": [
    "from keras import layers, models\n",
    "\n",
    "def Conv2D(filters, kernel_size, padding = 'same', activation = 'relu'):\n",
    "    return layers.Conv2D(filters, kernel_size, padding= padding, activation = activation)"
   ]
  },
  {
   "cell_type": "code",
   "execution_count": 2,
   "metadata": {},
   "outputs": [],
   "source": [
    "class AE(models.Model):\n",
    "    def __init__(self, org_shape = (1, 28, 28)):\n",
    "        # Input\n",
    "        original = layers.Input(shape = org_shape)\n",
    "        \n",
    "        # encoding-1\n",
    "        x = Conv2D(4, (3, 3))(original)\n",
    "        x = layers.MaxPooling2D((2,2), padding='same')(x)\n",
    "        \n",
    "        # encoding-2\n",
    "        x = Conv2D(8, (3,3))(x)\n",
    "        x = layers.MaxPooling2D((2,2), padding= 'same')(x)\n",
    "        \n",
    "        # encoding-3: encoding output: 7x7 pixels\n",
    "        z = Conv2D(1, (7,7))(x)\n",
    "        \n",
    "        # decoding-1\n",
    "        y = Conv2D(16, (7,7))(z)\n",
    "        y = layers.UpSampling2D((2,2))(y)\n",
    "        \n",
    "        # decoding-2\n",
    "        y = Conv2D(8, (3,3))(z)\n",
    "        y = layers.UpSampling2D((2,2))(y)\n",
    "        \n",
    "        # decoding-3\n",
    "        y = Conv2D(4, (3,3))(y)\n",
    "        \n",
    "        # decoding & Output\n",
    "        decoded = Conv2D(1, (3,3), activation = 'sigmoid')(y)\n",
    "        \n",
    "        super().__init__(original, decoded)\n",
    "        self.compile(optimizer = 'adadelta', loss= 'binary_crossentropy', metrics = ['accuracy'])"
   ]
  },
  {
   "cell_type": "code",
   "execution_count": null,
   "metadata": {},
   "outputs": [],
   "source": []
  }
 ],
 "metadata": {
  "kernelspec": {
   "display_name": "Python 3",
   "language": "python",
   "name": "python3"
  },
  "language_info": {
   "codemirror_mode": {
    "name": "ipython",
    "version": 3
   },
   "file_extension": ".py",
   "mimetype": "text/x-python",
   "name": "python",
   "nbconvert_exporter": "python",
   "pygments_lexer": "ipython3",
   "version": "3.8.5"
  }
 },
 "nbformat": 4,
 "nbformat_minor": 4
}
