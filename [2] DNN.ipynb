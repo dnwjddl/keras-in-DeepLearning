{
 "cells": [
  {
   "cell_type": "markdown",
   "metadata": {},
   "source": [
    "DNN은 Layer 수를 늘림으로 인하여 과적합이 생길 수 있음\n",
    "- 경사도 소실 문제\n",
    "- ReLU 활성화함수\n",
    "    - 경사도 소실 문제에 덜 민감\n",
    "    \n",
    "### 구현단계\n",
    "- 기본 파라미터 설정\n",
    "- 분류 DNN 모델 구현\n",
    "- 데이터 준비\n",
    "- DNN의 학습 및 성능 평가"
   ]
  },
  {
   "cell_type": "markdown",
   "metadata": {},
   "source": [
    "## 필기체를 분류하는 DNN 구현"
   ]
  },
  {
   "cell_type": "code",
   "execution_count": 1,
   "metadata": {},
   "outputs": [],
   "source": [
    "# 기본 파라미터 설정\n",
    "Nin = 784\n",
    "Nh_l = [100, 50]\n",
    "number_of_class = 10\n",
    "Nout = number_of_class"
   ]
  },
  {
   "cell_type": "code",
   "execution_count": 8,
   "metadata": {},
   "outputs": [],
   "source": [
    "# 분류 DNN 모델 구현\n",
    "from keras import layers, models\n",
    "\n",
    "'''\n",
    "연쇄방식으로 계층들을 구성\n",
    "DNN 객체를 models.Sequential로 부터 상속\n",
    "모델링은 init 안에서 구성\n",
    "super().__init__() : 부모 클래스의 초기화 함수를 먼저 불러서 모델링이 시작됨을 알림\n",
    "'''\n",
    "class DNN(models.Sequential):\n",
    "    def __init__(self, Nin, Nh_l, Nout):\n",
    "        super().__init__()\n",
    "        self.add(layers.Dense(Nh_l[0], activation = 'relu', input_shape = (Nin,), name = \"Hidden-1\" ))\n",
    "        self.add(layers.Dropout(0.2))\n",
    "        self.add(layers.Dense(Nh_l[1], activation = 'relu', name = 'Hidden-2'))\n",
    "        self.add(layers.Dropout(0.2))\n",
    "        self.add(layers.Dense(Nout, activation = 'softmax'))\n",
    "        \n",
    "        self.compile(loss = 'categorical_crossentropy', optimizer = 'adam', metrics = ['accuracy'])\n",
    "        # 2개이상 compile 할라고 categorical_crossentropy, 성능은 loss 외에 accuracy로 나타냄"
   ]
  },
  {
   "cell_type": "code",
   "execution_count": 5,
   "metadata": {},
   "outputs": [],
   "source": [
    "# 데이터 준비\n",
    "import numpy as np\n",
    "from keras import datasets\n",
    "from keras.utils import np_utils\n",
    "(X_train, y_train), (X_test, y_test)= datasets.mnist.load_data()\n",
    "y_train = np_utils.to_categorical(y_train)\n",
    "y_test = np_utils.to_categorical(y_test)\n",
    "L, W, H = X_train.shape\n",
    "X_train= X_train.reshape(-1, W*H)\n",
    "X_test = X_test.reshape(-1, W*H)\n",
    "X_train = X_train/255.0\n",
    "X_test = X_test/255.0"
   ]
  },
  {
   "cell_type": "code",
   "execution_count": 7,
   "metadata": {},
   "outputs": [
    {
     "name": "stdout",
     "output_type": "stream",
     "text": [
      "Epoch 1/10\n",
      "480/480 [==============================] - 2s 3ms/step - loss: 0.6814 - val_loss: 0.2063\n",
      "Epoch 2/10\n",
      "480/480 [==============================] - 1s 3ms/step - loss: 0.1906 - val_loss: 0.1479\n",
      "Epoch 3/10\n",
      "480/480 [==============================] - 1s 3ms/step - loss: 0.1367 - val_loss: 0.1277\n",
      "Epoch 4/10\n",
      "480/480 [==============================] - 1s 3ms/step - loss: 0.1069 - val_loss: 0.1129\n",
      "Epoch 5/10\n",
      "480/480 [==============================] - 1s 3ms/step - loss: 0.0833 - val_loss: 0.1038\n",
      "Epoch 6/10\n",
      "480/480 [==============================] - 1s 3ms/step - loss: 0.0657 - val_loss: 0.0971\n",
      "Epoch 7/10\n",
      "480/480 [==============================] - 1s 3ms/step - loss: 0.0575 - val_loss: 0.0933\n",
      "Epoch 8/10\n",
      "480/480 [==============================] - 1s 3ms/step - loss: 0.0518 - val_loss: 0.0902\n",
      "Epoch 9/10\n",
      "480/480 [==============================] - 1s 3ms/step - loss: 0.0441 - val_loss: 0.0903\n",
      "Epoch 10/10\n",
      "480/480 [==============================] - 1s 3ms/step - loss: 0.0380 - val_loss: 0.0883\n",
      "100/100 [==============================] - 0s 2ms/step - loss: 0.0817\n",
      "Test Loss and Accuracy=> 0.08169097453355789\n"
     ]
    }
   ],
   "source": [
    "# 분류 DNN 학습 및 성능 평가\n",
    "model = DNN(Nin, Nh_l, Nout)\n",
    "history = model.fit(X_train, y_train, epochs = 10, batch_size = 100, validation_split= 0.2)\n",
    "performance_test = model.evaluate(X_test, y_test, batch_size = 100)\n",
    "print(\"Test Loss and Accuracy=>\", performance_test)"
   ]
  },
  {
   "cell_type": "markdown",
   "metadata": {},
   "source": [
    "## 컬러 이미지를 분류하는 DNN 구현"
   ]
  },
  {
   "cell_type": "markdown",
   "metadata": {},
   "source": [
    "### CIFAR-10 데이터\n",
    "- 10가지 사물이 담긴 컬러 이미지\n",
    "- 6만장(5만장은 학습용, 1만장은 평가용)\n",
    "- 한 사진의 크기는 32x32x3"
   ]
  },
  {
   "cell_type": "code",
   "execution_count": 9,
   "metadata": {},
   "outputs": [],
   "source": [
    "import numpy as np\n",
    "from keras import datasets\n",
    "from keras.utils import np_utils"
   ]
  },
  {
   "cell_type": "code",
   "execution_count": 14,
   "metadata": {},
   "outputs": [],
   "source": [
    "def Data_func():\n",
    "    (X_train, y_train), (X_test, y_test) = datasets.cifar10.load_data()\n",
    "    y_train = np_utils.to_categorical(y_train)\n",
    "    y_test = np_utils.to_categorical(y_test)\n",
    "    \n",
    "    L, W, H, C = X_train.shape\n",
    "    X_train = X_train.reshape(-1, W*H*C)\n",
    "    X_test = X_test.reshape(-1, W*H*C)\n",
    "    \n",
    "    X_train = X_train/255.0\n",
    "    X_test = X_test/255.0\n",
    "    \n",
    "    return (X_train, Y_train), (X_test, Y_test)"
   ]
  },
  {
   "cell_type": "code",
   "execution_count": 13,
   "metadata": {},
   "outputs": [],
   "source": [
    "from keras import layers, models\n",
    "\n",
    "class DNN(models.Sequential):\n",
    "    def __init__(self, Nin, Nh_l, Pd_l, Nout):\n",
    "        super().__init__()\n",
    "        self.add(layers.Dense(Nh_l[0], activation = 'relu', input_shape = (Nin,), name = 'Hidden-1'))\n",
    "        self.add(layers.Dropout(Pd_l[0]))\n",
    "        self.add(layers.Dense(Nh_l[1], activation = 'relu', name = 'Hidden-2'))\n",
    "        self.add(layers.Dropout(Pd_l[1]))\n",
    "        self.add(layers.Dense(Nout, activation= 'softmax'))\n",
    "        \n",
    "        self.compile(loss = 'categorical_crossentropy', optimizer= 'adam', metrics = ['accuracy'])"
   ]
  },
  {
   "cell_type": "code",
   "execution_count": 17,
   "metadata": {},
   "outputs": [
    {
     "ename": "ModuleNotFoundError",
     "evalue": "No module named 'keraspp'",
     "output_type": "error",
     "traceback": [
      "\u001b[1;31m---------------------------------------------------------------------------\u001b[0m",
      "\u001b[1;31mModuleNotFoundError\u001b[0m                       Traceback (most recent call last)",
      "\u001b[1;32m<ipython-input-17-bbb49f297076>\u001b[0m in \u001b[0;36m<module>\u001b[1;34m\u001b[0m\n\u001b[0;32m      1\u001b[0m \u001b[1;31m# 학습 효과 분석\u001b[0m\u001b[1;33m\u001b[0m\u001b[1;33m\u001b[0m\u001b[1;33m\u001b[0m\u001b[0m\n\u001b[1;32m----> 2\u001b[1;33m \u001b[1;32mfrom\u001b[0m \u001b[0mkeraspp\u001b[0m\u001b[1;33m.\u001b[0m\u001b[0mskeras\u001b[0m \u001b[1;32mimport\u001b[0m \u001b[0mplot_loss\u001b[0m\u001b[1;33m,\u001b[0m \u001b[0mplot_acc\u001b[0m\u001b[1;33m\u001b[0m\u001b[1;33m\u001b[0m\u001b[0m\n\u001b[0m\u001b[0;32m      3\u001b[0m \u001b[1;32mimport\u001b[0m \u001b[0mmatplotlib\u001b[0m\u001b[1;33m.\u001b[0m\u001b[0mpyplot\u001b[0m \u001b[1;32mas\u001b[0m \u001b[0mplt\u001b[0m\u001b[1;33m\u001b[0m\u001b[1;33m\u001b[0m\u001b[0m\n",
      "\u001b[1;31mModuleNotFoundError\u001b[0m: No module named 'keraspp'"
     ]
    }
   ],
   "source": [
    "# 학습 효과 분석\n",
    "from keraspp.skeras import plot_loss, plot_acc\n",
    "import matplotlib.pjyplot as plt"
   ]
  },
  {
   "cell_type": "code",
   "execution_count": null,
   "metadata": {},
   "outputs": [],
   "source": []
  }
 ],
 "metadata": {
  "kernelspec": {
   "display_name": "keras",
   "language": "python",
   "name": "keras"
  },
  "language_info": {
   "codemirror_mode": {
    "name": "ipython",
    "version": 3
   },
   "file_extension": ".py",
   "mimetype": "text/x-python",
   "name": "python",
   "nbconvert_exporter": "python",
   "pygments_lexer": "ipython3",
   "version": "3.8.5"
  }
 },
 "nbformat": 4,
 "nbformat_minor": 4
}
